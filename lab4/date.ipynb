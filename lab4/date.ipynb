{
 "cells": [
  {
   "cell_type": "code",
   "execution_count": 4,
   "metadata": {},
   "outputs": [
    {
     "name": "stdout",
     "output_type": "stream",
     "text": [
      "2025-01-24\n"
     ]
    }
   ],
   "source": [
    "#1\n",
    "from datetime import timedelta, date\n",
    "\n",
    "def subract_days(n):\n",
    "  return date.today() - timedelta(n)\n",
    "\n",
    "print(subract_days(int(input())))\n"
   ]
  },
  {
   "cell_type": "code",
   "execution_count": 4,
   "metadata": {},
   "outputs": [
    {
     "name": "stdout",
     "output_type": "stream",
     "text": [
      "['2025-02-04', '2025-02-05', '2025-02-06']\n"
     ]
    }
   ],
   "source": [
    "#2\n",
    "from datetime import timedelta, datetime \n",
    "def print_time():\n",
    "  today = datetime.today()\n",
    "  yesterday = today - timedelta(days=1)\n",
    "  tomorrow = today + timedelta(days=1)\n",
    "  return [yesterday.strftime('%Y-%m-%d'), today.strftime('%Y-%m-%d'), tomorrow.strftime('%Y-%m-%d')]\n",
    "\n",
    "print(print_time())"
   ]
  },
  {
   "cell_type": "code",
   "execution_count": 7,
   "metadata": {},
   "outputs": [
    {
     "name": "stdout",
     "output_type": "stream",
     "text": [
      "2025-02-05 10:19:01\n"
     ]
    }
   ],
   "source": [
    "#3\n",
    "from datetime import  datetime\n",
    "\n",
    "def drop_microseconds(now):\n",
    "  return now.replace(microsecond=0)\n",
    "\n",
    "now = datetime.now()\n",
    "print(drop_microseconds(now))\n",
    "  "
   ]
  },
  {
   "cell_type": "code",
   "execution_count": 9,
   "metadata": {},
   "outputs": [
    {
     "name": "stdout",
     "output_type": "stream",
     "text": [
      "95400.0\n"
     ]
    }
   ],
   "source": [
    "#4\n",
    "from datetime import  datetime\n",
    "\n",
    "def date_diff(date1: str, date2: str, date_format: str = \"%Y-%m-%d %H:%M:%S\"):\n",
    "  dt1 =  datetime.strptime(date1, date_format)\n",
    "  dt2 =  datetime.strptime(date2, date_format)\n",
    "  \n",
    "  return abs((dt2-dt1).total_seconds())\n",
    "\n",
    "date1 = \"2024-02-01 12:00:00\"\n",
    "date2 = \"2024-02-02 14:30:00\" \n",
    "print(date_diff(date1, date2))"
   ]
  }
 ],
 "metadata": {
  "kernelspec": {
   "display_name": "Python 3.8 (Custom)",
   "language": "python",
   "name": "python3.8"
  },
  "language_info": {
   "codemirror_mode": {
    "name": "ipython",
    "version": 3
   },
   "file_extension": ".py",
   "mimetype": "text/x-python",
   "name": "python",
   "nbconvert_exporter": "python",
   "pygments_lexer": "ipython3",
   "version": "3.8.0"
  }
 },
 "nbformat": 4,
 "nbformat_minor": 2
}
