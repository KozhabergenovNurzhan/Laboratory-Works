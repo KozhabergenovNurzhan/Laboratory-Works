{
 "cells": [
  {
   "cell_type": "code",
   "execution_count": null,
   "metadata": {},
   "outputs": [
    {
     "name": "stdout",
     "output_type": "stream",
     "text": [
      "3.141592653589793\n"
     ]
    }
   ],
   "source": [
    "#1\n",
    "import math\n",
    "\n",
    "def to_radian(d):\n",
    "    return math.radians(d)\n",
    "    \n",
    "d = int(input())\n",
    "print(to_radian(d))  \n"
   ]
  },
  {
   "cell_type": "code",
   "execution_count": 3,
   "metadata": {},
   "outputs": [
    {
     "name": "stdout",
     "output_type": "stream",
     "text": [
      "27.5\n"
     ]
    }
   ],
   "source": [
    "#2\n",
    "def area_of_trapezoid(a, b, h):\n",
    "  return (a + b) / 2 * h\n",
    "\n",
    "a, b, h = int(input()), int(input()), int(input())\n",
    "\n",
    "print(area_of_trapezoid(a, b, h))\n",
    "\n"
   ]
  },
  {
   "cell_type": "code",
   "execution_count": 6,
   "metadata": {},
   "outputs": [
    {
     "name": "stdout",
     "output_type": "stream",
     "text": [
      "625.00\n"
     ]
    }
   ],
   "source": [
    "#3\n",
    "import math  \n",
    "def area(n, s):\n",
    "  return (n * s ** 2) / (4 * math.tan(math.pi / n))\n",
    "\n",
    "n = int(input())\n",
    "s = int(input())\n",
    "\n",
    "print(f\"{area(n, s):.2f}\")"
   ]
  },
  {
   "cell_type": "code",
   "execution_count": 7,
   "metadata": {},
   "outputs": [
    {
     "name": "stdout",
     "output_type": "stream",
     "text": [
      "30\n"
     ]
    }
   ],
   "source": [
    "#4\n",
    "def area(b, h):\n",
    "  return b * h\n",
    "\n",
    "b = int(input())\n",
    "h = int(input())\n",
    "\n",
    "print(area(b, h))"
   ]
  }
 ],
 "metadata": {
  "kernelspec": {
   "display_name": "venv",
   "language": "python",
   "name": "python3"
  },
  "language_info": {
   "codemirror_mode": {
    "name": "ipython",
    "version": 3
   },
   "file_extension": ".py",
   "mimetype": "text/x-python",
   "name": "python",
   "nbconvert_exporter": "python",
   "pygments_lexer": "ipython3",
   "version": "3.12.0"
  }
 },
 "nbformat": 4,
 "nbformat_minor": 2
}
