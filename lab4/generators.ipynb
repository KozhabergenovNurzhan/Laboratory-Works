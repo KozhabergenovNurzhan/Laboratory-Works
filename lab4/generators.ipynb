{
 "cells": [
  {
   "cell_type": "code",
   "execution_count": 2,
   "metadata": {},
   "outputs": [
    {
     "name": "stdout",
     "output_type": "stream",
     "text": [
      "1 4 9 16 25 36 49 64 81 100 "
     ]
    }
   ],
   "source": [
    "#1\n",
    "def square_generator(n):\n",
    "  for i in range(1, n + 1):\n",
    "    yield i ** 2\n",
    "\n",
    "n = int(input())\n",
    "\n",
    "for square in square_generator(n):\n",
    "    print(square, end=\" \")\n"
   ]
  },
  {
   "cell_type": "code",
   "execution_count": 1,
   "metadata": {},
   "outputs": [
    {
     "name": "stdout",
     "output_type": "stream",
     "text": [
      "0\n"
     ]
    }
   ],
   "source": [
    "#2\n",
    "def even_nums(n):\n",
    "  for i in range(0, n):\n",
    "    if i % 2 == 0:\n",
    "      yield i\n",
    "\n",
    "n = int(input())\n",
    "\n",
    "for even in even_nums(n):\n",
    "  print(even)\n"
   ]
  },
  {
   "cell_type": "code",
   "execution_count": 6,
   "metadata": {},
   "outputs": [
    {
     "name": "stdout",
     "output_type": "stream",
     "text": [
      "12 24 36 48 60 72 84 96 "
     ]
    }
   ],
   "source": [
    "#3\n",
    "def boba(n):\n",
    "  for i in range(1, n + 1):\n",
    "    if i % 3 == 0 and i % 4 == 0:\n",
    "      yield i\n",
    "\n",
    "n = int(input())\n",
    "for num in boba(n):\n",
    "  print(num, end=\" \")"
   ]
  },
  {
   "cell_type": "code",
   "execution_count": 11,
   "metadata": {},
   "outputs": [
    {
     "name": "stdout",
     "output_type": "stream",
     "text": [
      "1 2 3 4 5 6 7 8 9 10 11 12 4 6 8 10 12 14 16 18 20 22 9 12 15 18 21 24 27 30 16 20 24 28 32 36 25 30 35 40 36 42 "
     ]
    }
   ],
   "source": [
    "#4\n",
    "def buble_tea(a,b):\n",
    "  for a in range(a, b):\n",
    "    for b in range(a,b): \n",
    "      yield a * b\n",
    "\n",
    "a,b = int(input()), int(input())\n",
    "\n",
    "for num in buble_tea(a,b):\n",
    "  print(num, end= \" \")\n"
   ]
  },
  {
   "cell_type": "code",
   "execution_count": 14,
   "metadata": {},
   "outputs": [
    {
     "name": "stdout",
     "output_type": "stream",
     "text": [
      "17 16 15 14 13 12 11 10 9 8 7 6 5 4 3 2 1 "
     ]
    }
   ],
   "source": [
    "#5\n",
    "def iterate(n):\n",
    "  for i in range(n, 0, -1):\n",
    "    yield i\n",
    "\n",
    "n = int(input())\n",
    "\n",
    "for num in iterate(n):\n",
    "  print(num, end= \" \")"
   ]
  }
 ],
 "metadata": {
  "kernelspec": {
   "display_name": "Python 3.8 (Custom)",
   "language": "python",
   "name": "python3.8"
  },
  "language_info": {
   "codemirror_mode": {
    "name": "ipython",
    "version": 3
   },
   "file_extension": ".py",
   "mimetype": "text/x-python",
   "name": "python",
   "nbconvert_exporter": "python",
   "pygments_lexer": "ipython3",
   "version": "3.8.0"
  }
 },
 "nbformat": 4,
 "nbformat_minor": 2
}
