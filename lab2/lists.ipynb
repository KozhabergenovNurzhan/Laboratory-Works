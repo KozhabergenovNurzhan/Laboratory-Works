{
 "cells": [
  {
   "cell_type": "code",
   "execution_count": 2,
   "metadata": {},
   "outputs": [
    {
     "name": "stdout",
     "output_type": "stream",
     "text": [
      "['kiwi', 'mango', 'banana', 'apple', 'orange', 'apple']\n"
     ]
    }
   ],
   "source": [
    "fruits = [\"kiwi\", \"mango\", \"banana\", \"apple\", \"orange\", \"apple\"]\n",
    "\n",
    "print(fruits)"
   ]
  },
  {
   "cell_type": "code",
   "execution_count": 4,
   "metadata": {},
   "outputs": [
    {
     "name": "stdout",
     "output_type": "stream",
     "text": [
      "6\n"
     ]
    }
   ],
   "source": [
    "print(len(fruits))"
   ]
  },
  {
   "cell_type": "code",
   "execution_count": 16,
   "metadata": {},
   "outputs": [
    {
     "name": "stdout",
     "output_type": "stream",
     "text": [
      "['kiwi', 'mango', 'banana', 'apple', 'orange', 'apple', 'grape']\n",
      "['kiwi', 'mango', 'banana', 'orange', 'apple', 'grape']\n"
     ]
    }
   ],
   "source": [
    "fruits.append(\"grape\")\n",
    "\n",
    "print(fruits)\n",
    "\n",
    "fruits.remove(\"apple\")\n",
    "\n",
    "print(fruits)"
   ]
  },
  {
   "cell_type": "code",
   "execution_count": 22,
   "metadata": {},
   "outputs": [
    {
     "name": "stdout",
     "output_type": "stream",
     "text": [
      "Meliodase\n",
      "Eskanor\n",
      "Ban\n",
      "Meliodase\n",
      "Eskanor\n"
     ]
    }
   ],
   "source": [
    "seven_deadly_sins = [\"Meliodase\", \"Eskanor\", \"Ban\"]\n",
    "\n",
    "for sin in seven_deadly_sins:\n",
    "  print(sin)\n",
    "\n",
    "seven_deadly_sins.pop()\n",
    "\n",
    "i = 0\n",
    "while i < len(seven_deadly_sins):\n",
    "  print(seven_deadly_sins[i])\n",
    "  i += 1"
   ]
  },
  {
   "cell_type": "code",
   "execution_count": 26,
   "metadata": {},
   "outputs": [
    {
     "name": "stdout",
     "output_type": "stream",
     "text": [
      "5\n",
      "4\n",
      "3\n",
      "2\n",
      "1\n"
     ]
    }
   ],
   "source": [
    "nums = [1, 2, 3, 4, 5]\n",
    "\n",
    "nums.sort(reverse = True)\n",
    "\n",
    "for i in range(len(nums)):\n",
    "  print(nums[i])"
   ]
  },
  {
   "cell_type": "code",
   "execution_count": 7,
   "metadata": {},
   "outputs": [
    {
     "name": "stdout",
     "output_type": "stream",
     "text": [
      "BMW\n",
      "lamborghini\n",
      "Mercedes\n",
      "15\n",
      "13\n",
      "999\n",
      "2\n",
      "True\n",
      "False\n",
      "False\n",
      "what\n",
      "34.0\n",
      "True\n",
      "40\n",
      "I identify myself as a list\n"
     ]
    }
   ],
   "source": [
    "list1 = [\"BMW\", \"lamborghini\", \"Mercedes\"]\n",
    "list2 = [15, 13, 999, 2]\n",
    "list3 = [True, False, False]\n",
    "list4 = [\"what\", 34.000, True, 40, \"I identify myself as a list\"]\n",
    "\n",
    "newlist = list1 + list2 + list3 + list4\n",
    "\n",
    "size = len(list1) + len(list2) + len(list3) + len(list4)\n",
    "\n",
    "for List in newlist:\n",
    "  print(List)"
   ]
  },
  {
   "cell_type": "code",
   "execution_count": 8,
   "metadata": {},
   "outputs": [
    {
     "name": "stdout",
     "output_type": "stream",
     "text": [
      "<class 'list'>\n"
     ]
    }
   ],
   "source": [
    "mylist = [1, 2, 3, 4, 5]\n",
    "\n",
    "print(type(mylist))"
   ]
  },
  {
   "cell_type": "code",
   "execution_count": 10,
   "metadata": {},
   "outputs": [
    {
     "name": "stdout",
     "output_type": "stream",
     "text": [
      "['apple', 'orange', 'mango']\n"
     ]
    }
   ],
   "source": [
    "random_list = [\"apple\", \"banana\", \"cherry\", \"orange\", \"kiwi\", \"melon\", \"mango\"]\n",
    "print(random_list[::3])"
   ]
  },
  {
   "cell_type": "code",
   "execution_count": 11,
   "metadata": {},
   "outputs": [
    {
     "name": "stdout",
     "output_type": "stream",
     "text": [
      "['mango', 'melon', 'kiwi', 'orange', 'cherry', 'banana', 'apple']\n"
     ]
    }
   ],
   "source": [
    "random_list = [\"apple\", \"banana\", \"cherry\", \"orange\", \"kiwi\", \"melon\", \"mango\"]\n",
    "print(random_list[::-1])"
   ]
  },
  {
   "cell_type": "code",
   "execution_count": 12,
   "metadata": {},
   "outputs": [
    {
     "name": "stdout",
     "output_type": "stream",
     "text": [
      "['apple', 'dog', 'cat', 'bird', 'orange', 'kiwi', 'melon', 'mango']\n"
     ]
    }
   ],
   "source": [
    "random_list[1:3] = [\"dog\", \"cat\", \"bird\"]\n",
    "\n",
    "print(random_list)"
   ]
  },
  {
   "cell_type": "code",
   "execution_count": 15,
   "metadata": {},
   "outputs": [
    {
     "name": "stdout",
     "output_type": "stream",
     "text": [
      "All good, no prime number\n"
     ]
    }
   ],
   "source": [
    "even_list = [i for i in range(10) if i % 2 == 0]\n",
    "\n",
    "if 3 in even_list:\n",
    "  print(\"Oops, there is prime number\")\n",
    "else:\n",
    "  print(\"All good, no prime number\")"
   ]
  }
 ],
 "metadata": {
  "kernelspec": {
   "display_name": "Python 3.8 (Custom)",
   "language": "python",
   "name": "python3.8"
  }
 },
 "nbformat": 4,
 "nbformat_minor": 2
}
