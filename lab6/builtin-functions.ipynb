{
 "cells": [
  {
   "cell_type": "code",
   "execution_count": 1,
   "metadata": {},
   "outputs": [
    {
     "name": "stdout",
     "output_type": "stream",
     "text": [
      "120\n"
     ]
    }
   ],
   "source": [
    "#1\n",
    "from math import prod\n",
    "\n",
    "def product(lst):\n",
    "    return prod(lst)\n",
    "\n",
    "lst = [1, 2, 3, 4, 5]\n",
    "print(product(lst))"
   ]
  },
  {
   "cell_type": "code",
   "execution_count": null,
   "metadata": {},
   "outputs": [
    {
     "name": "stdout",
     "output_type": "stream",
     "text": [
      "(1, 4)\n"
     ]
    }
   ],
   "source": [
    "#2\n",
    "def count(s):\n",
    "    upp_cnt = sum(1 for c in s if c.isupper())\n",
    "    low_cnt = sum(1 for c in s if c.islower())\n",
    "    return upp_cnt, low_cnt\n",
    "\n",
    "s = input()\n",
    "print(count(s))"
   ]
  },
  {
   "cell_type": "code",
   "execution_count": null,
   "metadata": {},
   "outputs": [
    {
     "name": "stdout",
     "output_type": "stream",
     "text": [
      "True\n"
     ]
    }
   ],
   "source": [
    "#3\n",
    "def is_palindrome(s: str):\n",
    "  cleaned_string = ''.join(filter(str.isalnum, s)).lower()\n",
    "  \n",
    "  return cleaned_string == cleaned_string[::-1]\n",
    "\n",
    "test_string = \"QazaQ\"\n",
    "print(is_palindrome(test_string))"
   ]
  },
  {
   "cell_type": "code",
   "execution_count": 4,
   "metadata": {},
   "outputs": [
    {
     "name": "stdout",
     "output_type": "stream",
     "text": [
      "Square root of 25100 after 2123 milliseconds is 158.42979517754858\n"
     ]
    }
   ],
   "source": [
    "#4\n",
    "import time\n",
    "import math\n",
    "\n",
    "def delayed_square_root(number, ms):\n",
    "    delay_seconds = ms / 1000.0\n",
    "    time.sleep(delay_seconds)\n",
    "\n",
    "    return math.sqrt(number)\n",
    "\n",
    "number = 25100\n",
    "ms = 2123\n",
    "\n",
    "result = delayed_square_root(number, ms)\n",
    "print(f\"Square root of {number} after {ms} milliseconds is {result}\")"
   ]
  },
  {
   "cell_type": "code",
   "execution_count": null,
   "metadata": {},
   "outputs": [
    {
     "name": "stdout",
     "output_type": "stream",
     "text": [
      "True\n",
      "False\n"
     ]
    }
   ],
   "source": [
    "#5\n",
    "def all_elements_true(t):\n",
    "  return all(t)\n",
    "\n",
    "tpl = (True, True, True)\n",
    "print(all_elements_true(tpl))\n",
    "\n",
    "tpl = (True, False, True)\n",
    "print(all_elements_true(tpl))"
   ]
  }
 ],
 "metadata": {
  "kernelspec": {
   "display_name": ".venv",
   "language": "python",
   "name": "python3"
  },
  "language_info": {
   "codemirror_mode": {
    "name": "ipython",
    "version": 3
   },
   "file_extension": ".py",
   "mimetype": "text/x-python",
   "name": "python",
   "nbconvert_exporter": "python",
   "pygments_lexer": "ipython3",
   "version": "3.12.0"
  }
 },
 "nbformat": 4,
 "nbformat_minor": 2
}
