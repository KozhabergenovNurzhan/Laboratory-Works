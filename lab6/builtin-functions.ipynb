{
 "cells": [
  {
   "cell_type": "code",
   "execution_count": null,
   "metadata": {},
   "outputs": [
    {
     "name": "stdout",
     "output_type": "stream",
     "text": [
      "120\n"
     ]
    }
   ],
   "source": [
    "#1\n",
    "from functools import reduce\n",
    "\n",
    "lst = [1, 2, 3, 4, 5]\n",
    "print(reduce(lambda x, y: x * y, lst))"
   ]
  },
  {
   "cell_type": "code",
   "execution_count": null,
   "metadata": {},
   "outputs": [
    {
     "name": "stdout",
     "output_type": "stream",
     "text": [
      "Hello\n",
      "upper_case: 1, lower_case: 4\n"
     ]
    }
   ],
   "source": [
    "#2\n",
    "s = input()\n",
    "upp = sum(1 for i in s if i.isupper())\n",
    "low = sum(1 for i in s if i.islower())\n",
    "\n",
    "print(f'{s}\\nupper_case: {upp}, lower_case: {low}', end='\\n')"
   ]
  },
  {
   "cell_type": "code",
   "execution_count": 10,
   "metadata": {},
   "outputs": [
    {
     "name": "stdout",
     "output_type": "stream",
     "text": [
      "True\n",
      "True\n"
     ]
    }
   ],
   "source": [
    "#3\n",
    "temp = \"QazaQ\"\n",
    "print(temp == temp[::-1])\n",
    "print(temp == ''.join(reversed(temp)))"
   ]
  },
  {
   "cell_type": "code",
   "execution_count": null,
   "metadata": {},
   "outputs": [
    {
     "name": "stdout",
     "output_type": "stream",
     "text": [
      "Square root of 1000 after 2000 milliseconds is 31.622776601683793\n"
     ]
    }
   ],
   "source": [
    "#4\n",
    "import time\n",
    "\n",
    "def func(num, ms):\n",
    "    time.sleep(ms / 1000.0)\n",
    "\n",
    "    return num ** 0.5\n",
    "\n",
    "num, ms = int(input()), int(input()) \n",
    "result = func(num, ms)\n",
    "print(f\"Square root of {num} after {ms} milliseconds is {result}\")"
   ]
  },
  {
   "cell_type": "code",
   "execution_count": 4,
   "metadata": {},
   "outputs": [
    {
     "name": "stdout",
     "output_type": "stream",
     "text": [
      "True\n",
      "False\n"
     ]
    }
   ],
   "source": [
    "#5\n",
    "tpl1 = (True, True, True)\n",
    "tpl2 = (True, False, True)\n",
    "\n",
    "print(all(tpl1))\n",
    "print(all(tpl2))"
   ]
  }
 ],
 "metadata": {
  "kernelspec": {
   "display_name": ".venv",
   "language": "python",
   "name": "python3"
  },
  "language_info": {
   "codemirror_mode": {
    "name": "ipython",
    "version": 3
   },
   "file_extension": ".py",
   "mimetype": "text/x-python",
   "name": "python",
   "nbconvert_exporter": "python",
   "pygments_lexer": "ipython3",
   "version": "3.12.0"
  }
 },
 "nbformat": 4,
 "nbformat_minor": 2
}
