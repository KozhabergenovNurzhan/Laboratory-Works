{
 "cells": [
  {
   "cell_type": "code",
   "execution_count": 18,
   "metadata": {},
   "outputs": [
    {
     "name": "stdout",
     "output_type": "stream",
     "text": [
      "Directories:\n",
      "['.git', '.venv', 'lab1', 'lab10', 'lab11', 'lab2', 'lab3', 'lab4', 'lab5', 'lab6', 'lab7', 'lab8', 'lab9']\n",
      "\n",
      "Files:\n",
      "['.gitignore', 'README.md']\n",
      "\n",
      "All directories and files:\n",
      "['.git', '.gitignore', '.venv', 'lab1', 'lab10', 'lab11', 'lab2', 'lab3', 'lab4', 'lab5', 'lab6', 'lab7', 'lab8', 'lab9', 'README.md']\n"
     ]
    }
   ],
   "source": [
    "#1\n",
    "import os\n",
    "\n",
    "def list_directories(path: str):\n",
    "  return [entry.name for entry in os.scandir(path) if entry.is_dir()]\n",
    "\n",
    "def list_files(path: str):\n",
    "  return [entry.name for entry in os.scandir(path) if entry.is_file()]\n",
    "\n",
    "def list_all(path: str):\n",
    "  return [entry.name for entry in os.scandir(path)]\n",
    "\n",
    "specified_path = \"c:/Users/Nurzhan/Laboratory-Works\"\n",
    "\n",
    "print(\"Directories:\")\n",
    "print(list_directories(specified_path))\n",
    "\n",
    "print(\"\\nFiles:\")\n",
    "print(list_files(specified_path))\n",
    "\n",
    "print(\"\\nAll directories and files:\")\n",
    "print(list_all(specified_path))"
   ]
  },
  {
   "cell_type": "code",
   "execution_count": 19,
   "metadata": {},
   "outputs": [
    {
     "name": "stdout",
     "output_type": "stream",
     "text": [
      "Exists: True\n",
      "Readable: True\n",
      "Writable: True\n",
      "Executable: True\n"
     ]
    }
   ],
   "source": [
    "#2\n",
    "exists = os.path.exists(specified_path)\n",
    "print(f\"Exists: {exists}\")\n",
    " \n",
    "readable = os.access(specified_path, os.R_OK)\n",
    "print(f\"Readable: {readable}\")\n",
    "\n",
    "writable = os.access(specified_path, os.W_OK)\n",
    "print(f\"Writable: {writable}\")\n",
    "\n",
    "executable = os.access(specified_path, os.X_OK)\n",
    "print(f\"Executable: {executable}\")"
   ]
  },
  {
   "cell_type": "code",
   "execution_count": null,
   "metadata": {},
   "outputs": [
    {
     "name": "stdout",
     "output_type": "stream",
     "text": [
      "The path 'c:/Users/Nurzhan/Laboratory-Works' exists.\n",
      "Directory portion: c:/Users/Nurzhan\n",
      "Filename portion: Laboratory-Works\n"
     ]
    }
   ],
   "source": [
    "#3\n",
    "import os\n",
    "\n",
    "if os.path.exists(specified_path):\n",
    "  print(f\"The path '{specified_path}' exists.\")\n",
    "\n",
    "  dir = os.path.dirname(specified_path)\n",
    "  print(f\"Directory portion: {dir}\")\n",
    "  \n",
    "  filename = os.path.basename(specified_path)\n",
    "  print(f\"Filename portion: {filename}\")\n",
    "else:\n",
    "  print(f\"The path '{specified_path}' does not exist.\")"
   ]
  },
  {
   "cell_type": "code",
   "execution_count": null,
   "metadata": {},
   "outputs": [
    {
     "name": "stdout",
     "output_type": "stream",
     "text": [
      "4\n"
     ]
    }
   ],
   "source": [
    "#4\n",
    "def count_lines(filename):\n",
    "  cnt = 0\n",
    "  with open(filename, 'r') as file:\n",
    "    for line in file:\n",
    "      stripped_line = line.strip()\n",
    "      \n",
    "      if stripped_line and not stripped_line.startswith('#'):\n",
    "        cnt += 1\n",
    "\n",
    "  return cnt  \n",
    "\n",
    "line_cnt = count_lines(\"text.txt\")\n",
    "print(line_cnt)\n"
   ]
  },
  {
   "cell_type": "code",
   "execution_count": 27,
   "metadata": {},
   "outputs": [],
   "source": [
    "#5\n",
    "def write_list_to_file(filename, data_list):\n",
    "  with open(filename, 'w') as file:  \n",
    "    for item in data_list:\n",
    "      file.write(f\"{item}\\n\")\n",
    "\n",
    "data_list = [\"apple\", \"banana\", \"cherry\", \"date\"]\n",
    "write_list_to_file(\"text.txt\", data_list) \n"
   ]
  },
  {
   "cell_type": "code",
   "execution_count": 28,
   "metadata": {},
   "outputs": [],
   "source": [
    "#6\n",
    "import string\n",
    "\n",
    "for letter in string.ascii_uppercase:\n",
    "  with open(f\"{letter}.txt\", 'w') as file:\n",
    "    file.write(f\"{letter}.txt\")"
   ]
  },
  {
   "cell_type": "code",
   "execution_count": 24,
   "metadata": {},
   "outputs": [],
   "source": [
    "#7\n",
    "def copy_file_contents(source_file, destination_file):\n",
    "  with open(source_file, 'r') as src:\n",
    "    contents = src.read()\n",
    "  with open(destination_file, 'w') as dest:\n",
    "    dest.write(contents)\n",
    "\n",
    "source_file = 'text.txt'\n",
    "destination_file = 'copy_of_text.txt'\n",
    "copy_file_contents(source_file, destination_file)"
   ]
  },
  {
   "cell_type": "code",
   "execution_count": null,
   "metadata": {},
   "outputs": [
    {
     "name": "stdout",
     "output_type": "stream",
     "text": [
      "File 'text.txt' has been deleted.\n"
     ]
    }
   ],
   "source": [
    "#8\n",
    "import os\n",
    "\n",
    "def delete_file(path: str):\n",
    "  if os.path.exists(path):\n",
    "    if os.access(path, os.W_OK):\n",
    "      os.remove(path)\n",
    "      print(f\"File '{path}' has been deleted.\")\n",
    "    else:\n",
    "      print(f\"File '{path}' is not writable.\")\n",
    "  else:\n",
    "    print(f\"File '{path}' does not exist.\")\n",
    "\n",
    "delete_file('text.txt')"
   ]
  }
 ],
 "metadata": {
  "kernelspec": {
   "display_name": ".venv",
   "language": "python",
   "name": "python3"
  },
  "language_info": {
   "codemirror_mode": {
    "name": "ipython",
    "version": 3
   },
   "file_extension": ".py",
   "mimetype": "text/x-python",
   "name": "python",
   "nbconvert_exporter": "python",
   "pygments_lexer": "ipython3",
   "version": "3.12.0"
  }
 },
 "nbformat": 4,
 "nbformat_minor": 2
}
