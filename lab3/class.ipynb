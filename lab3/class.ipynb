{
 "cells": [
  {
   "cell_type": "code",
   "execution_count": 14,
   "metadata": {},
   "outputs": [
    {
     "name": "stdout",
     "output_type": "stream",
     "text": [
      "TALGAT\n"
     ]
    }
   ],
   "source": [
    "#1\n",
    "class get_name:\n",
    "  def get_string(self):\n",
    "    self.name = input(\"Enter your name: \")\n",
    "\n",
    "  def print_string(self):\n",
    "    print(self.name.upper())\n",
    "\n",
    "temp = get_name()\n",
    "temp.get_string()\n",
    "temp.print_string()\n",
    "  "
   ]
  },
  {
   "cell_type": "code",
   "execution_count": 15,
   "metadata": {},
   "outputs": [
    {
     "name": "stdout",
     "output_type": "stream",
     "text": [
      "16\n",
      "300\n"
     ]
    }
   ],
   "source": [
    "#2/#3\n",
    "class Shape:\n",
    "  def area(self):\n",
    "    pass\n",
    "\n",
    "class Square(Shape):\n",
    "  def __init__(self, length = 0):\n",
    "    self.length = length\n",
    "\n",
    "  def area(self):\n",
    "    print(self.length ** 2)\n",
    "\n",
    "class Rectangle(Shape):\n",
    "  def __init__(self, length = 0, width = 0):\n",
    "    self.length = length\n",
    "    self.width = width\n",
    "  \n",
    "  def area(self):\n",
    "    print(self.length * self.width)\n",
    "\n",
    "temp = Shape()\n",
    "temp.area()\n",
    "\n",
    "temp = Square(4)\n",
    "temp.area()\n",
    "\n",
    "temp = Rectangle(15, 20)\n",
    "temp.area()"
   ]
  },
  {
   "cell_type": "code",
   "execution_count": 16,
   "metadata": {},
   "outputs": [
    {
     "name": "stdout",
     "output_type": "stream",
     "text": [
      "Points (3, 4)\n",
      "Points (9, 10)\n",
      "Distance between points: 2.83\n"
     ]
    }
   ],
   "source": [
    "#4\n",
    "import math \n",
    "\n",
    "class Point:\n",
    "  def __init__(self, x = 0, y = 0):\n",
    "    self.x = x\n",
    "    self.y = y\n",
    "\n",
    "  def show(self):\n",
    "    print(f\"Points ({self.x}, {self.y})\")\n",
    "\n",
    "  def move(self):\n",
    "    self.x = int(input(\"Enter new x coordinate: \"))\n",
    "    self.y = int(input(\"Enter new y coordinate: \"))\n",
    "\n",
    "  def dist(self, other):\n",
    "    distance = math.sqrt((self.x - other.x) ** 2 + (self.y - other.y) ** 2)\n",
    "\n",
    "    return f\"Distance between points: {distance:.2f}\"\n",
    "\n",
    "a = Point(3, 4)\n",
    "a.show()\n",
    "a.move()\n",
    "a.show()\n",
    "\n",
    "b = Point(7, 8)\n",
    "\n",
    "print(a.dist(b))\n"
   ]
  },
  {
   "cell_type": "code",
   "execution_count": 17,
   "metadata": {},
   "outputs": [
    {
     "name": "stdout",
     "output_type": "stream",
     "text": [
      "Rai deposited $200. New balance: $1200\n",
      "Rai withdrew $100. New balance: $1100\n",
      "Rai withdrew $1000. New balance: $100\n",
      "Error: Deposit amount must be positive.\n",
      "Rai's account balance: $100\n"
     ]
    }
   ],
   "source": [
    "#5\n",
    "class Bank_Account:\n",
    "\n",
    "    def __init__(self, owner, balance=0):\n",
    "        self.owner = owner\n",
    "        self.balance = max(balance, 0)\n",
    "\n",
    "    def deposit(self, amount):\n",
    "        if amount > 0:\n",
    "            self.balance += amount\n",
    "            print(f\"{self.owner} deposited ${amount}. New balance: ${self.balance}\")\n",
    "        else:\n",
    "            print(\"Error: Deposit amount must be positive.\")\n",
    "\n",
    "    def withdraw(self, amount):\n",
    "        if amount > self.balance:\n",
    "            print(\"Insufficient balance! Withdrawal denied.\")\n",
    "        elif amount > 0:\n",
    "            self.balance -= amount\n",
    "            print(f\"{self.owner} withdrew ${amount}. New balance: ${self.balance}\")\n",
    "        else:\n",
    "            print(\"Withdrawal amount must be positive.\")\n",
    "\n",
    "    def display_balance(self):\n",
    "        print(f\"{self.owner}'s account balance: ${self.balance}\")\n",
    "\n",
    "\n",
    "account = Bank_Account(\"Rai\", 1000)\n",
    "\n",
    "account.deposit(200)\n",
    "account.withdraw(100)\n",
    "account.withdraw(1000)\n",
    "account.deposit(-100)\n",
    "account.display_balance()"
   ]
  },
  {
   "cell_type": "code",
   "execution_count": 18,
   "metadata": {},
   "outputs": [
    {
     "name": "stdout",
     "output_type": "stream",
     "text": [
      "[2, 3, 5, 7, 11, 13]\n"
     ]
    }
   ],
   "source": [
    "#6\n",
    "def Filter(nums):\n",
    "    is_prime = lambda n: n > 1 and all(n % i != 0 for i in range(2, int(n**0.5) + 1))\n",
    "    return list(filter(is_prime, nums))\n",
    "\n",
    "nums = list(range(1, 16))\n",
    "\n",
    "prime_nums = Filter(nums)\n",
    "print(prime_nums)\n"
   ]
  }
 ],
 "metadata": {
  "kernelspec": {
   "display_name": "Python 3.8 (Custom)",
   "language": "python",
   "name": "python3.8"
  },
  "language_info": {
   "codemirror_mode": {
    "name": "ipython",
    "version": 3
   },
   "file_extension": ".py",
   "mimetype": "text/x-python",
   "name": "python",
   "nbconvert_exporter": "python",
   "pygments_lexer": "ipython3",
   "version": "3.8.0"
  }
 },
 "nbformat": 4,
 "nbformat_minor": 2
}
