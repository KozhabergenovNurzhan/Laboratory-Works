{
 "cells": [
  {
   "cell_type": "code",
   "execution_count": 12,
   "metadata": {},
   "outputs": [
    {
     "name": "stdout",
     "output_type": "stream",
     "text": [
      "NAME\n"
     ]
    }
   ],
   "source": [
    "class get_name:\n",
    "  def get_string(self):\n",
    "    self.name = input(\"Enter your name: \")\n",
    "\n",
    "  def print_string(self):\n",
    "    print(self.name.upper())\n",
    "\n",
    "temp = get_name()\n",
    "temp.get_string()\n",
    "temp.print_string()\n",
    "  "
   ]
  },
  {
   "cell_type": "code",
   "execution_count": 16,
   "metadata": {},
   "outputs": [
    {
     "name": "stdout",
     "output_type": "stream",
     "text": [
      "0\n",
      "0\n"
     ]
    }
   ],
   "source": [
    "class Shape:\n",
    "  def area(self):\n",
    "    pass\n",
    "\n",
    "class Square(Shape):\n",
    "  def __init__(self, length = 0):\n",
    "    self.length = length\n",
    "\n",
    "  def area(self):\n",
    "    print(self.length ** 2)\n",
    "\n",
    "class Rectangle(Shape):\n",
    "  def __init__(self, length = 0, width = 0):\n",
    "    self.length = length\n",
    "    self.width = width\n",
    "  \n",
    "  def area(self):\n",
    "    print(self.length * self.width)\n",
    "\n",
    "temp = Shape()\n",
    "temp.area()\n",
    "\n",
    "temp = Rectangle()\n",
    "temp.area()\n",
    "\n",
    "temp = Square()\n",
    "temp.area()"
   ]
  },
  {
   "cell_type": "code",
   "execution_count": 25,
   "metadata": {},
   "outputs": [
    {
     "name": "stdout",
     "output_type": "stream",
     "text": [
      "Points (3, 4)\n",
      "Points (10, 15)\n",
      "Distance between points: 7.62\n"
     ]
    }
   ],
   "source": [
    "import math \n",
    "\n",
    "class Point:\n",
    "  def __init__(self, x = 0, y = 0):\n",
    "    self.x = x\n",
    "    self.y = y\n",
    "\n",
    "  def show(self):\n",
    "    print(f\"Points ({self.x}, {self.y})\")\n",
    "\n",
    "  def move(self):\n",
    "    self.x = int(input(\"Enter new x coordinate: \"))\n",
    "    self.y = int(input(\"Enter new y coordinate: \"))\n",
    "\n",
    "  def dist(self, other):\n",
    "    distance = math.sqrt((self.x - other.x) ** 2 + (self.y - other.y) ** 2)\n",
    "\n",
    "    return f\"Distance between points: {distance:.2f}\"\n",
    "\n",
    "a = Point(3, 4)\n",
    "a.show()\n",
    "a.move()\n",
    "a.show()\n",
    "\n",
    "b = Point(7, 8)\n",
    "\n",
    "print(a.dist(b))\n"
   ]
  },
  {
   "cell_type": "code",
   "execution_count": null,
   "metadata": {},
   "outputs": [],
   "source": [
    "class Account:\n",
    "\n",
    "  def __init__(self, owner, balance):\n",
    "    self.owner = owner\n",
    "    self.balance = balance\n",
    "\n",
    "  def deposit(self):\n",
    "    "
   ]
  }
 ],
 "metadata": {
  "kernelspec": {
   "display_name": "Python 3.8 (Custom)",
   "language": "python",
   "name": "python3.8"
  },
  "language_info": {
   "codemirror_mode": {
    "name": "ipython",
    "version": 3
   },
   "file_extension": ".py",
   "mimetype": "text/x-python",
   "name": "python",
   "nbconvert_exporter": "python",
   "pygments_lexer": "ipython3",
   "version": "3.8.0"
  }
 },
 "nbformat": 4,
 "nbformat_minor": 2
}
