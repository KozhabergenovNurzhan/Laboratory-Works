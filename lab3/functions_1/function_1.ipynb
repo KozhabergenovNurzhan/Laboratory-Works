{
 "cells": [
  {
   "cell_type": "code",
   "execution_count": null,
   "metadata": {},
   "outputs": [
    {
     "name": "stdout",
     "output_type": "stream",
     "text": [
      "1000 grams is equal to 28349.5231 ounces.\n"
     ]
    }
   ],
   "source": [
    "#1\n",
    "def to_ounces(n):\n",
    "  return n * 28.3495231\n",
    "\n",
    "grams = int(input())\n",
    "\n",
    "print(f\"{grams} grams is equal to {to_ounces(grams)} ounces.\")"
   ]
  },
  {
   "cell_type": "code",
   "execution_count": 5,
   "metadata": {},
   "outputs": [
    {
     "name": "stdout",
     "output_type": "stream",
     "text": [
      "0 degrees in Fahrenheit is equal to -17.77777777777778 in celsius.\n"
     ]
    }
   ],
   "source": [
    "#2\n",
    "def to_celsius(n):\n",
    "  return (n - 32) * 5/9\n",
    "\n",
    "fahrenheit = int(input())\n",
    "\n",
    "print(f\"{fahrenheit} degrees in Fahrenheit is equal to {to_celsius(fahrenheit)} in celsius.\")"
   ]
  },
  {
   "cell_type": "code",
   "execution_count": 8,
   "metadata": {},
   "outputs": [
    {
     "name": "stdout",
     "output_type": "stream",
     "text": [
      "Number of chickens: 12, Number of rabbits: 23.\n"
     ]
    }
   ],
   "source": [
    "#3\n",
    "def solve(heads, legs):\n",
    "  for b in range(heads + 1):\n",
    "    a = heads - b\n",
    "\n",
    "    if (2 * b) + (4 * a) == legs:\n",
    "      return a, b\n",
    "\n",
    "heads, legs = 35, 94\n",
    "chickens, rabbits = solve(heads, legs)\n",
    "\n",
    "print(f\"Number of chickens: {chickens}, Number of rabbits: {rabbits}.\")"
   ]
  },
  {
   "cell_type": "code",
   "execution_count": 12,
   "metadata": {},
   "outputs": [
    {
     "name": "stdout",
     "output_type": "stream",
     "text": [
      "2\n",
      "3\n",
      "5\n",
      "7\n"
     ]
    }
   ],
   "source": [
    "#4\n",
    "def filter_prime(n):\n",
    "  if n <= 1:\n",
    "    return False\n",
    "    \n",
    "  for i in range(2, int(n**0.5) + 1):\n",
    "    if n % i == 0:\n",
    "      return False\n",
    "  return True  \n",
    "\n",
    "lst = [1, 2, 3, 4, 5, 6, 7, 8, 9, 10]\n",
    "\n",
    "for n in lst:\n",
    "  if filter_prime(n):\n",
    "    print(n)\n"
   ]
  },
  {
   "cell_type": "code",
   "execution_count": 9,
   "metadata": {},
   "outputs": [
    {
     "name": "stdout",
     "output_type": "stream",
     "text": [
      "cba\n"
     ]
    }
   ],
   "source": [
    "#5\n",
    "def next_permutation(s):\n",
    "  s = list(s)\n",
    "\n",
    "  i = len(s) - 2\n",
    "  while i >= 0 and s[i] >= s[i + 1]:\n",
    "    i -= 1\n",
    "\n",
    "  if i < 0:\n",
    "    return ''.join(s)\n",
    "\n",
    "  j = len(s) - 1\n",
    "  while s[j] <= s[i]:\n",
    "    j -= 1\n",
    "\n",
    "  s[i], s[j] = s[j], s[i]\n",
    "  s[i + 1:] = reversed(s[i + 1:])\n",
    "  \n",
    "  return ''.join(s)\n",
    "\n",
    "s = input()\n",
    "print(next_permutation(s))"
   ]
  },
  {
   "cell_type": "code",
   "execution_count": 4,
   "metadata": {},
   "outputs": [
    {
     "name": "stdout",
     "output_type": "stream",
     "text": [
      "ready are We\n"
     ]
    }
   ],
   "source": [
    "#6 \n",
    "def reverse(s):\n",
    "  temp = s.split()\n",
    "\n",
    "  reversed_s = temp[::-1]\n",
    "\n",
    "  return ' '.join(reversed_s)\n",
    "  \n",
    "s = input()\n",
    "\n",
    "print(reverse(s))"
   ]
  },
  {
   "cell_type": "code",
   "execution_count": 6,
   "metadata": {},
   "outputs": [
    {
     "name": "stdout",
     "output_type": "stream",
     "text": [
      "True\n",
      "False\n",
      "False\n"
     ]
    }
   ],
   "source": [
    "#7 \n",
    "def has_33(nums):\n",
    "  for i in range(len(nums) - 1): \n",
    "    if nums[i] == 3 and nums[i + 1] == 3:  \n",
    "      return True\n",
    "  return False\n",
    "\n",
    "print(has_33([1, 3, 3]))  \n",
    "print(has_33([1, 3, 1, 3])) \n",
    "print(has_33([3, 1, 3]))  \n"
   ]
  },
  {
   "cell_type": "code",
   "execution_count": 13,
   "metadata": {},
   "outputs": [
    {
     "name": "stdout",
     "output_type": "stream",
     "text": [
      "True\n",
      "True\n",
      "False\n"
     ]
    }
   ],
   "source": [
    "#8 \n",
    "def spy_game(nums):\n",
    "  lst = [0, 0, 7]\n",
    "\n",
    "  for num in nums:\n",
    "    if num == lst[0]:\n",
    "      lst.pop(0)\n",
    "    if not lst:\n",
    "      return True\n",
    "\n",
    "  return False\n",
    "\n",
    "\n",
    "print(spy_game([1, 2, 4, 0, 0, 7, 5]))\n",
    "print(spy_game([1,0,2,4,0,5,7]))\n",
    "print(spy_game([1,7,2,0,4,5,0]))\n"
   ]
  },
  {
   "cell_type": "code",
   "execution_count": 15,
   "metadata": {},
   "outputs": [
    {
     "name": "stdout",
     "output_type": "stream",
     "text": [
      "4186.666666666667\n"
     ]
    }
   ],
   "source": [
    "#9\n",
    "def volume(r):\n",
    "  return (4 / 3) * 3.14 * (r ** 3)\n",
    "\n",
    "r = int(input())\n",
    "\n",
    "print(volume(r))"
   ]
  },
  {
   "cell_type": "code",
   "execution_count": 17,
   "metadata": {},
   "outputs": [
    {
     "name": "stdout",
     "output_type": "stream",
     "text": [
      "[1, 2, 3, 5, 6, 10]\n"
     ]
    }
   ],
   "source": [
    "#10\n",
    "def unique(lst):\n",
    "  unique_lst = []\n",
    "\n",
    "  for num in lst:\n",
    "    if num not in unique_lst:\n",
    "      unique_lst.append(num)\n",
    "  return unique_lst\n",
    "\n",
    "nums = [1, 2, 2, 3, 5, 5, 6, 10]\n",
    "print(unique(nums))"
   ]
  },
  {
   "cell_type": "code",
   "execution_count": 24,
   "metadata": {},
   "outputs": [
    {
     "name": "stdout",
     "output_type": "stream",
     "text": [
      "True\n"
     ]
    }
   ],
   "source": [
    "#11\n",
    "def palindrome(lst):\n",
    "  if isinstance(lst, (list)):\n",
    "    return lst == lst[::-1]\n",
    "\n",
    "  lst = ''.join(c.lower() for c in lst if c.isalnum()) \n",
    "  return lst == lst[::-1]\n",
    "\n",
    "lst = input(\"Enter a word or phrase or sequence: \")\n",
    "print(palindrome(lst))\n"
   ]
  },
  {
   "cell_type": "code",
   "execution_count": 31,
   "metadata": {},
   "outputs": [
    {
     "name": "stdout",
     "output_type": "stream",
     "text": [
      "*****\n",
      "*********\n",
      "**\n"
     ]
    }
   ],
   "source": [
    "#12\n",
    "def histogram(lst):\n",
    "  for num in lst:\n",
    "    print('*' * num)\n",
    "\n",
    "lst = list(map(int, input().split()))\n",
    "\n",
    "histogram(lst)"
   ]
  },
  {
   "cell_type": "code",
   "execution_count": 38,
   "metadata": {},
   "outputs": [
    {
     "name": "stdout",
     "output_type": "stream",
     "text": [
      "Hello, Nurzhan, I am thinling of a number between 1 and 9.\n",
      "Take a guess.\n",
      "Your guess is too low.\n",
      "Your guess is too high.\n",
      "Your guess is too high.\n",
      "Game over!\n"
     ]
    }
   ],
   "source": [
    "#13\n",
    "import random\n",
    "\n",
    "def guess_the_number():\n",
    "  lower_bound, upper_bound = 1, random.randint(1, 10)\n",
    "  number_to_guess = random.randint(lower_bound, upper_bound)\n",
    "  guesses_taken = 0\n",
    "\n",
    "  name = input(\"Hello, What is your name?\\n\")\n",
    "  print(f\"Hello, {name}, I am thinling of a number between {lower_bound} and {upper_bound}.\\nTake a guess.\")\n",
    "\n",
    "  while True:\n",
    "    guess = int(input())\n",
    "\n",
    "    if guess < number_to_guess:\n",
    "      print(\"Your guess is too low.\")\n",
    "      guesses_taken += 1\n",
    "      \n",
    "      if guesses_taken == 3:\n",
    "        print(\"Game over!\")\n",
    "        break\n",
    "    elif guess > number_to_guess:\n",
    "      print(\"Your guess is too high.\")\n",
    "      guesses_taken += 1\n",
    "      if guesses_taken == 3:\n",
    "        print(\"Game over!\")\n",
    "        break\n",
    "    else:\n",
    "      print(\"Good job! You've found the number\")\n",
    "      break\n",
    "\n",
    "guess_the_number()"
   ]
  }
 ],
 "metadata": {
  "kernelspec": {
   "display_name": "Python 3",
   "language": "python",
   "name": "python3"
  },
  "language_info": {
   "codemirror_mode": {
    "name": "ipython",
    "version": 3
   },
   "file_extension": ".py",
   "mimetype": "text/x-python",
   "name": "python",
   "nbconvert_exporter": "python",
   "pygments_lexer": "ipython3",
   "version": "3.8.0"
  }
 },
 "nbformat": 4,
 "nbformat_minor": 2
}
